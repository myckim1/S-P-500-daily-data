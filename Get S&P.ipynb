{
 "cells": [
  {
   "cell_type": "markdown",
   "id": "c865969a",
   "metadata": {},
   "source": [
    "# S&P 500 Index Daily Data.\n",
    "- Fetches daily S&P 500 data from Yahoo Finance from end of 1927 to Today. (As data available from 1927 only)."
   ]
  },
  {
   "cell_type": "code",
   "execution_count": 1,
   "id": "5439ceb9",
   "metadata": {},
   "outputs": [],
   "source": [
    "#!pip install yfinance"
   ]
  },
  {
   "cell_type": "code",
   "execution_count": 2,
   "id": "9b6f116a",
   "metadata": {},
   "outputs": [],
   "source": [
    "import pandas as pd\n",
    "import numpy as np\n",
    "import yfinance as yf\n",
    "from datetime import datetime\n",
    "import os"
   ]
  },
  {
   "cell_type": "code",
   "execution_count": 3,
   "id": "96166ce7",
   "metadata": {},
   "outputs": [
    {
     "name": "stdout",
     "output_type": "stream",
     "text": [
      "[*********************100%***********************]  1 of 1 completed\n"
     ]
    }
   ],
   "source": [
    "gspc_historical_df = yf.download('^GSPC')"
   ]
  },
  {
   "cell_type": "markdown",
   "id": "aefbee41",
   "metadata": {},
   "source": [
    "## Fixing Open Price = 0.0\n",
    "- Note for some dates, open price = 0.0\n",
    "- Although not ideal, I will assume that opening price of trading day = closing price of previous trading day"
   ]
  },
  {
   "cell_type": "code",
   "execution_count": 4,
   "id": "25e8bad7",
   "metadata": {},
   "outputs": [
    {
     "name": "stdout",
     "output_type": "stream",
     "text": [
      "[*********************100%***********************]  1 of 1 completed\n"
     ]
    }
   ],
   "source": [
    "test = yf.download('^GSPC')"
   ]
  },
  {
   "cell_type": "code",
   "execution_count": 5,
   "id": "ec61e390",
   "metadata": {},
   "outputs": [],
   "source": [
    "test = test.reset_index()"
   ]
  },
  {
   "cell_type": "code",
   "execution_count": 6,
   "id": "e957141a",
   "metadata": {},
   "outputs": [
    {
     "data": {
      "text/html": [
       "<div>\n",
       "<style scoped>\n",
       "    .dataframe tbody tr th:only-of-type {\n",
       "        vertical-align: middle;\n",
       "    }\n",
       "\n",
       "    .dataframe tbody tr th {\n",
       "        vertical-align: top;\n",
       "    }\n",
       "\n",
       "    .dataframe thead th {\n",
       "        text-align: right;\n",
       "    }\n",
       "</style>\n",
       "<table border=\"1\" class=\"dataframe\">\n",
       "  <thead>\n",
       "    <tr style=\"text-align: right;\">\n",
       "      <th></th>\n",
       "      <th>Date</th>\n",
       "      <th>Open</th>\n",
       "      <th>High</th>\n",
       "      <th>Low</th>\n",
       "      <th>Close</th>\n",
       "      <th>Adj Close</th>\n",
       "      <th>Volume</th>\n",
       "    </tr>\n",
       "  </thead>\n",
       "  <tbody>\n",
       "    <tr>\n",
       "      <th>0</th>\n",
       "      <td>1927-12-30</td>\n",
       "      <td>17.660000</td>\n",
       "      <td>17.660000</td>\n",
       "      <td>17.660000</td>\n",
       "      <td>17.660000</td>\n",
       "      <td>17.660000</td>\n",
       "      <td>0</td>\n",
       "    </tr>\n",
       "    <tr>\n",
       "      <th>1</th>\n",
       "      <td>1928-01-03</td>\n",
       "      <td>17.760000</td>\n",
       "      <td>17.760000</td>\n",
       "      <td>17.760000</td>\n",
       "      <td>17.760000</td>\n",
       "      <td>17.760000</td>\n",
       "      <td>0</td>\n",
       "    </tr>\n",
       "    <tr>\n",
       "      <th>2</th>\n",
       "      <td>1928-01-04</td>\n",
       "      <td>17.719999</td>\n",
       "      <td>17.719999</td>\n",
       "      <td>17.719999</td>\n",
       "      <td>17.719999</td>\n",
       "      <td>17.719999</td>\n",
       "      <td>0</td>\n",
       "    </tr>\n",
       "    <tr>\n",
       "      <th>3</th>\n",
       "      <td>1928-01-05</td>\n",
       "      <td>17.549999</td>\n",
       "      <td>17.549999</td>\n",
       "      <td>17.549999</td>\n",
       "      <td>17.549999</td>\n",
       "      <td>17.549999</td>\n",
       "      <td>0</td>\n",
       "    </tr>\n",
       "    <tr>\n",
       "      <th>4</th>\n",
       "      <td>1928-01-09</td>\n",
       "      <td>17.500000</td>\n",
       "      <td>17.500000</td>\n",
       "      <td>17.500000</td>\n",
       "      <td>17.500000</td>\n",
       "      <td>17.500000</td>\n",
       "      <td>0</td>\n",
       "    </tr>\n",
       "  </tbody>\n",
       "</table>\n",
       "</div>"
      ],
      "text/plain": [
       "        Date       Open       High        Low      Close  Adj Close  Volume\n",
       "0 1927-12-30  17.660000  17.660000  17.660000  17.660000  17.660000       0\n",
       "1 1928-01-03  17.760000  17.760000  17.760000  17.760000  17.760000       0\n",
       "2 1928-01-04  17.719999  17.719999  17.719999  17.719999  17.719999       0\n",
       "3 1928-01-05  17.549999  17.549999  17.549999  17.549999  17.549999       0\n",
       "4 1928-01-09  17.500000  17.500000  17.500000  17.500000  17.500000       0"
      ]
     },
     "execution_count": 6,
     "metadata": {},
     "output_type": "execute_result"
    }
   ],
   "source": [
    "test.head()"
   ]
  },
  {
   "cell_type": "markdown",
   "id": "91a0b57b",
   "metadata": {},
   "source": [
    "The open price =0.0 appears to happen between 1962 jan 1 to 1982 april 10. See if this is the case for all rows within this time range."
   ]
  },
  {
   "cell_type": "code",
   "execution_count": 7,
   "id": "10371922",
   "metadata": {},
   "outputs": [],
   "source": [
    "test_noopen_indices = test[test[\"Open\"]==0].index"
   ]
  },
  {
   "cell_type": "code",
   "execution_count": 8,
   "id": "ab952934",
   "metadata": {},
   "outputs": [],
   "source": [
    "for index in test_noopen_indices:\n",
    "    test.iloc[index,test.columns.get_loc('Open')] = \\\n",
    "    test.iloc[index-1][\"Close\"]"
   ]
  },
  {
   "cell_type": "code",
   "execution_count": 9,
   "id": "74610aa7",
   "metadata": {},
   "outputs": [
    {
     "data": {
      "text/plain": [
       "0"
      ]
     },
     "execution_count": 9,
     "metadata": {},
     "output_type": "execute_result"
    }
   ],
   "source": [
    "len(test[test['Open'] == 0])"
   ]
  },
  {
   "cell_type": "markdown",
   "id": "b6e74520",
   "metadata": {},
   "source": [
    "#### Applying it to the actual dataset:"
   ]
  },
  {
   "cell_type": "code",
   "execution_count": 10,
   "id": "7bc9619c",
   "metadata": {},
   "outputs": [],
   "source": [
    "gspc_historical_df = gspc_historical_df.reset_index()"
   ]
  },
  {
   "cell_type": "code",
   "execution_count": 11,
   "id": "a25bc7da",
   "metadata": {},
   "outputs": [],
   "source": [
    "gspc_noopen_indices = gspc_historical_df[gspc_historical_df['Open']==0].index"
   ]
  },
  {
   "cell_type": "code",
   "execution_count": 12,
   "id": "4b552557",
   "metadata": {},
   "outputs": [],
   "source": [
    "for index in gspc_noopen_indices:\n",
    "    gspc_historical_df.iloc[index , gspc_historical_df.columns.get_loc('Open')] = \\\n",
    "    gspc_historical_df.iloc[index-1][\"Close\"]"
   ]
  },
  {
   "cell_type": "code",
   "execution_count": 13,
   "id": "b12e8285",
   "metadata": {},
   "outputs": [
    {
     "data": {
      "text/plain": [
       "0"
      ]
     },
     "execution_count": 13,
     "metadata": {},
     "output_type": "execute_result"
    }
   ],
   "source": [
    "len(gspc_historical_df[gspc_historical_df['Open']==0])"
   ]
  },
  {
   "cell_type": "markdown",
   "id": "a90a5082",
   "metadata": {},
   "source": [
    "## Adding Calculated Columns\n",
    "In particular:\n",
    "- % Change in Stock Closing: Gain/ Loss (As opening price information is not accurate for all dates)\n",
    "- % Daily Price variation"
   ]
  },
  {
   "cell_type": "code",
   "execution_count": 14,
   "id": "30e4d3de",
   "metadata": {},
   "outputs": [],
   "source": [
    "change_closing_arr = np.array([0]) #For 1927-12-30\n",
    "change_closing_arr = np.append(change_closing_arr,\n",
    "                    [gspc_historical_df.iloc[i]['Close']-gspc_historical_df.iloc[i-1]['Close'] \\\n",
    "                    for i in range(1,len(gspc_historical_df))])"
   ]
  },
  {
   "cell_type": "code",
   "execution_count": 15,
   "id": "14baae53",
   "metadata": {},
   "outputs": [
    {
     "data": {
      "text/plain": [
       "array([ 0.00000000e+00,  1.00000381e-01, -4.00009155e-02, ...,\n",
       "        3.76503906e+01, -6.95019531e+00, -4.07597656e+01])"
      ]
     },
     "execution_count": 15,
     "metadata": {},
     "output_type": "execute_result"
    }
   ],
   "source": [
    "change_closing_arr"
   ]
  },
  {
   "cell_type": "code",
   "execution_count": 16,
   "id": "38e87951",
   "metadata": {},
   "outputs": [],
   "source": [
    "change_closing_percent = change_closing_arr*100 / gspc_historical_df['Close']"
   ]
  },
  {
   "cell_type": "code",
   "execution_count": 17,
   "id": "d5552879",
   "metadata": {},
   "outputs": [],
   "source": [
    "gspc_historical_df[\"% Gain/Loss (Close)\"] = change_closing_percent"
   ]
  },
  {
   "cell_type": "code",
   "execution_count": 18,
   "id": "f792f8cd",
   "metadata": {},
   "outputs": [],
   "source": [
    "gspc_historical_df[\"% Price Variation\"] = (gspc_historical_df['High']-gspc_historical_df['Low'])/gspc_historical_df['Close']"
   ]
  },
  {
   "cell_type": "code",
   "execution_count": 19,
   "id": "afa34ff8",
   "metadata": {},
   "outputs": [],
   "source": [
    "gspc_historical_df.set_index(\"Date\", inplace = True)\n",
    "#Put back date as index\n",
    "decimals = pd.Series([2,2,2,2,2,0,4,3],index = gspc_historical_df.columns)\n",
    "#Round to these decimals"
   ]
  },
  {
   "cell_type": "code",
   "execution_count": 20,
   "id": "0e6541f3",
   "metadata": {},
   "outputs": [],
   "source": [
    "gspc_historical_df = gspc_historical_df.round(decimals)"
   ]
  },
  {
   "cell_type": "markdown",
   "id": "aa97c1c1",
   "metadata": {},
   "source": [
    "#### Exporting to CSV"
   ]
  },
  {
   "cell_type": "code",
   "execution_count": 21,
   "id": "65b52125",
   "metadata": {},
   "outputs": [],
   "source": [
    "file_name = \"SPX_500_Data.csv\"\n",
    "path = os.path.join(os.getcwd(),file_name)\n",
    "gspc_historical_df.to_csv(path)"
   ]
  }
 ],
 "metadata": {
  "kernelspec": {
   "display_name": "Python 3 (ipykernel)",
   "language": "python",
   "name": "python3"
  },
  "language_info": {
   "codemirror_mode": {
    "name": "ipython",
    "version": 3
   },
   "file_extension": ".py",
   "mimetype": "text/x-python",
   "name": "python",
   "nbconvert_exporter": "python",
   "pygments_lexer": "ipython3",
   "version": "3.9.7"
  }
 },
 "nbformat": 4,
 "nbformat_minor": 5
}
