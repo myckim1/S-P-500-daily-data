{
 "cells": [
  {
   "cell_type": "markdown",
   "id": "c865969a",
   "metadata": {},
   "source": [
    "# S&P 500 Index Daily Data.\n",
    "- Fetches daily S&P 500 data from Yahoo Finance from end of 1927 to Today. (As data available from 1927 only)."
   ]
  },
  {
   "cell_type": "code",
   "execution_count": 1,
   "id": "5439ceb9",
   "metadata": {},
   "outputs": [],
   "source": [
    "#!pip install yfinance"
   ]
  },
  {
   "cell_type": "code",
   "execution_count": 2,
   "id": "9b6f116a",
   "metadata": {},
   "outputs": [],
   "source": [
    "import pandas as pd\n",
    "import numpy as np\n",
    "import yfinance as yf\n",
    "from datetime import datetime\n",
    "import os"
   ]
  },
  {
   "cell_type": "code",
   "execution_count": 3,
   "id": "96166ce7",
   "metadata": {},
   "outputs": [
    {
     "name": "stdout",
     "output_type": "stream",
     "text": [
      "[*********************100%***********************]  1 of 1 completed\n"
     ]
    }
   ],
   "source": [
    "gspc_historical_df = yf.download('^GSPC')"
   ]
  },
  {
   "cell_type": "markdown",
   "id": "aefbee41",
   "metadata": {},
   "source": [
    "## Fixing Open Price = 0.0\n",
    "- Note for some dates, open price = 0.0\n",
    "- Although not ideal, I will assume that opening price of trading day = closing price of previous trading day"
   ]
  },
  {
   "cell_type": "code",
   "execution_count": 4,
   "id": "25e8bad7",
   "metadata": {},
   "outputs": [
    {
     "name": "stdout",
     "output_type": "stream",
     "text": [
      "[*********************100%***********************]  1 of 1 completed\n"
     ]
    }
   ],
   "source": [
    "test = yf.download('^GSPC')"
   ]
  },
  {
   "cell_type": "code",
   "execution_count": 5,
   "id": "ec61e390",
   "metadata": {},
   "outputs": [],
   "source": [
    "test = test.reset_index()"
   ]
  },
  {
   "cell_type": "code",
   "execution_count": 6,
   "id": "e957141a",
   "metadata": {},
   "outputs": [
    {
     "data": {
      "text/html": [
       "<div>\n",
       "<style scoped>\n",
       "    .dataframe tbody tr th:only-of-type {\n",
       "        vertical-align: middle;\n",
       "    }\n",
       "\n",
       "    .dataframe tbody tr th {\n",
       "        vertical-align: top;\n",
       "    }\n",
       "\n",
       "    .dataframe thead th {\n",
       "        text-align: right;\n",
       "    }\n",
       "</style>\n",
       "<table border=\"1\" class=\"dataframe\">\n",
       "  <thead>\n",
       "    <tr style=\"text-align: right;\">\n",
       "      <th></th>\n",
       "      <th>Date</th>\n",
       "      <th>Open</th>\n",
       "      <th>High</th>\n",
       "      <th>Low</th>\n",
       "      <th>Close</th>\n",
       "      <th>Adj Close</th>\n",
       "      <th>Volume</th>\n",
       "    </tr>\n",
       "  </thead>\n",
       "  <tbody>\n",
       "    <tr>\n",
       "      <th>0</th>\n",
       "      <td>1927-12-30</td>\n",
       "      <td>17.660000</td>\n",
       "      <td>17.660000</td>\n",
       "      <td>17.660000</td>\n",
       "      <td>17.660000</td>\n",
       "      <td>17.660000</td>\n",
       "      <td>0</td>\n",
       "    </tr>\n",
       "    <tr>\n",
       "      <th>1</th>\n",
       "      <td>1928-01-03</td>\n",
       "      <td>17.760000</td>\n",
       "      <td>17.760000</td>\n",
       "      <td>17.760000</td>\n",
       "      <td>17.760000</td>\n",
       "      <td>17.760000</td>\n",
       "      <td>0</td>\n",
       "    </tr>\n",
       "    <tr>\n",
       "      <th>2</th>\n",
       "      <td>1928-01-04</td>\n",
       "      <td>17.719999</td>\n",
       "      <td>17.719999</td>\n",
       "      <td>17.719999</td>\n",
       "      <td>17.719999</td>\n",
       "      <td>17.719999</td>\n",
       "      <td>0</td>\n",
       "    </tr>\n",
       "    <tr>\n",
       "      <th>3</th>\n",
       "      <td>1928-01-05</td>\n",
       "      <td>17.549999</td>\n",
       "      <td>17.549999</td>\n",
       "      <td>17.549999</td>\n",
       "      <td>17.549999</td>\n",
       "      <td>17.549999</td>\n",
       "      <td>0</td>\n",
       "    </tr>\n",
       "    <tr>\n",
       "      <th>4</th>\n",
       "      <td>1928-01-09</td>\n",
       "      <td>17.500000</td>\n",
       "      <td>17.500000</td>\n",
       "      <td>17.500000</td>\n",
       "      <td>17.500000</td>\n",
       "      <td>17.500000</td>\n",
       "      <td>0</td>\n",
       "    </tr>\n",
       "  </tbody>\n",
       "</table>\n",
       "</div>"
      ],
      "text/plain": [
       "        Date       Open       High        Low      Close  Adj Close  Volume\n",
       "0 1927-12-30  17.660000  17.660000  17.660000  17.660000  17.660000       0\n",
       "1 1928-01-03  17.760000  17.760000  17.760000  17.760000  17.760000       0\n",
       "2 1928-01-04  17.719999  17.719999  17.719999  17.719999  17.719999       0\n",
       "3 1928-01-05  17.549999  17.549999  17.549999  17.549999  17.549999       0\n",
       "4 1928-01-09  17.500000  17.500000  17.500000  17.500000  17.500000       0"
      ]
     },
     "execution_count": 6,
     "metadata": {},
     "output_type": "execute_result"
    }
   ],
   "source": [
    "test.head()"
   ]
  },
  {
   "cell_type": "markdown",
   "id": "91a0b57b",
   "metadata": {},
   "source": [
    "The open price =0.0 appears to happen between 1962 jan 1 to 1982 april 10. See if this is the case for all rows within this time range."
   ]
  },
  {
   "cell_type": "code",
   "execution_count": 7,
   "id": "10371922",
   "metadata": {},
   "outputs": [],
   "source": [
    "test_noopen_indices = test[test[\"Open\"]==0].index"
   ]
  },
  {
   "cell_type": "code",
   "execution_count": 8,
   "id": "ab952934",
   "metadata": {},
   "outputs": [],
   "source": [
    "for index in test_noopen_indices:\n",
    "    test.iloc[index,test.columns.get_loc('Open')] = \\\n",
    "    test.iloc[index-1][\"Close\"]"
   ]
  },
  {
   "cell_type": "code",
   "execution_count": 9,
   "id": "74610aa7",
   "metadata": {},
   "outputs": [
    {
     "data": {
      "text/plain": [
       "0"
      ]
     },
     "execution_count": 9,
     "metadata": {},
     "output_type": "execute_result"
    }
   ],
   "source": [
    "len(test[test['Open'] == 0])"
   ]
  },
  {
   "cell_type": "markdown",
   "id": "b6e74520",
   "metadata": {},
   "source": [
    "#### Applying it to the actual dataset:"
   ]
  },
  {
   "cell_type": "code",
   "execution_count": 10,
   "id": "7bc9619c",
   "metadata": {},
   "outputs": [],
   "source": [
    "gspc_historical_df = gspc_historical_df.reset_index()"
   ]
  },
  {
   "cell_type": "code",
   "execution_count": 11,
   "id": "a25bc7da",
   "metadata": {},
   "outputs": [],
   "source": [
    "gspc_noopen_indices = gspc_historical_df[gspc_historical_df['Open']==0].index"
   ]
  },
  {
   "cell_type": "code",
   "execution_count": 12,
   "id": "4b552557",
   "metadata": {},
   "outputs": [],
   "source": [
    "for index in gspc_noopen_indices:\n",
    "    gspc_historical_df.iloc[index , gspc_historical_df.columns.get_loc('Open')] = \\\n",
    "    gspc_historical_df.iloc[index-1][\"Close\"]"
   ]
  },
  {
   "cell_type": "code",
   "execution_count": 13,
   "id": "b12e8285",
   "metadata": {},
   "outputs": [
    {
     "data": {
      "text/plain": [
       "0"
      ]
     },
     "execution_count": 13,
     "metadata": {},
     "output_type": "execute_result"
    }
   ],
   "source": [
    "len(gspc_historical_df[gspc_historical_df['Open']==0])"
   ]
  },
  {
   "cell_type": "markdown",
   "id": "90f7653a",
   "metadata": {},
   "source": [
    "### Examining volume figures\n",
    "- Easily seen that volume data not available for earlier dates."
   ]
  },
  {
   "cell_type": "code",
   "execution_count": 14,
   "id": "cdf5f716",
   "metadata": {},
   "outputs": [
    {
     "data": {
      "text/html": [
       "<div>\n",
       "<style scoped>\n",
       "    .dataframe tbody tr th:only-of-type {\n",
       "        vertical-align: middle;\n",
       "    }\n",
       "\n",
       "    .dataframe tbody tr th {\n",
       "        vertical-align: top;\n",
       "    }\n",
       "\n",
       "    .dataframe thead th {\n",
       "        text-align: right;\n",
       "    }\n",
       "</style>\n",
       "<table border=\"1\" class=\"dataframe\">\n",
       "  <thead>\n",
       "    <tr style=\"text-align: right;\">\n",
       "      <th></th>\n",
       "      <th>Date</th>\n",
       "      <th>Open</th>\n",
       "      <th>High</th>\n",
       "      <th>Low</th>\n",
       "      <th>Close</th>\n",
       "      <th>Adj Close</th>\n",
       "      <th>Volume</th>\n",
       "    </tr>\n",
       "  </thead>\n",
       "  <tbody>\n",
       "    <tr>\n",
       "      <th>0</th>\n",
       "      <td>1927-12-30</td>\n",
       "      <td>17.660000</td>\n",
       "      <td>17.660000</td>\n",
       "      <td>17.660000</td>\n",
       "      <td>17.660000</td>\n",
       "      <td>17.660000</td>\n",
       "      <td>0</td>\n",
       "    </tr>\n",
       "    <tr>\n",
       "      <th>1</th>\n",
       "      <td>1928-01-03</td>\n",
       "      <td>17.760000</td>\n",
       "      <td>17.760000</td>\n",
       "      <td>17.760000</td>\n",
       "      <td>17.760000</td>\n",
       "      <td>17.760000</td>\n",
       "      <td>0</td>\n",
       "    </tr>\n",
       "    <tr>\n",
       "      <th>2</th>\n",
       "      <td>1928-01-04</td>\n",
       "      <td>17.719999</td>\n",
       "      <td>17.719999</td>\n",
       "      <td>17.719999</td>\n",
       "      <td>17.719999</td>\n",
       "      <td>17.719999</td>\n",
       "      <td>0</td>\n",
       "    </tr>\n",
       "    <tr>\n",
       "      <th>3</th>\n",
       "      <td>1928-01-05</td>\n",
       "      <td>17.549999</td>\n",
       "      <td>17.549999</td>\n",
       "      <td>17.549999</td>\n",
       "      <td>17.549999</td>\n",
       "      <td>17.549999</td>\n",
       "      <td>0</td>\n",
       "    </tr>\n",
       "    <tr>\n",
       "      <th>4</th>\n",
       "      <td>1928-01-09</td>\n",
       "      <td>17.500000</td>\n",
       "      <td>17.500000</td>\n",
       "      <td>17.500000</td>\n",
       "      <td>17.500000</td>\n",
       "      <td>17.500000</td>\n",
       "      <td>0</td>\n",
       "    </tr>\n",
       "    <tr>\n",
       "      <th>...</th>\n",
       "      <td>...</td>\n",
       "      <td>...</td>\n",
       "      <td>...</td>\n",
       "      <td>...</td>\n",
       "      <td>...</td>\n",
       "      <td>...</td>\n",
       "      <td>...</td>\n",
       "    </tr>\n",
       "    <tr>\n",
       "      <th>1649</th>\n",
       "      <td>1948-09-23</td>\n",
       "      <td>15.560000</td>\n",
       "      <td>15.560000</td>\n",
       "      <td>15.560000</td>\n",
       "      <td>15.560000</td>\n",
       "      <td>15.560000</td>\n",
       "      <td>0</td>\n",
       "    </tr>\n",
       "    <tr>\n",
       "      <th>1650</th>\n",
       "      <td>1948-10-20</td>\n",
       "      <td>16.340000</td>\n",
       "      <td>16.340000</td>\n",
       "      <td>16.340000</td>\n",
       "      <td>16.340000</td>\n",
       "      <td>16.340000</td>\n",
       "      <td>0</td>\n",
       "    </tr>\n",
       "    <tr>\n",
       "      <th>1651</th>\n",
       "      <td>1948-10-21</td>\n",
       "      <td>16.360001</td>\n",
       "      <td>16.360001</td>\n",
       "      <td>16.360001</td>\n",
       "      <td>16.360001</td>\n",
       "      <td>16.360001</td>\n",
       "      <td>0</td>\n",
       "    </tr>\n",
       "    <tr>\n",
       "      <th>1652</th>\n",
       "      <td>1948-10-27</td>\n",
       "      <td>16.570000</td>\n",
       "      <td>16.570000</td>\n",
       "      <td>16.570000</td>\n",
       "      <td>16.570000</td>\n",
       "      <td>16.570000</td>\n",
       "      <td>0</td>\n",
       "    </tr>\n",
       "    <tr>\n",
       "      <th>1653</th>\n",
       "      <td>1949-12-13</td>\n",
       "      <td>16.639999</td>\n",
       "      <td>16.639999</td>\n",
       "      <td>16.639999</td>\n",
       "      <td>16.639999</td>\n",
       "      <td>16.639999</td>\n",
       "      <td>0</td>\n",
       "    </tr>\n",
       "  </tbody>\n",
       "</table>\n",
       "<p>1654 rows × 7 columns</p>\n",
       "</div>"
      ],
      "text/plain": [
       "           Date       Open       High        Low      Close  Adj Close  Volume\n",
       "0    1927-12-30  17.660000  17.660000  17.660000  17.660000  17.660000       0\n",
       "1    1928-01-03  17.760000  17.760000  17.760000  17.760000  17.760000       0\n",
       "2    1928-01-04  17.719999  17.719999  17.719999  17.719999  17.719999       0\n",
       "3    1928-01-05  17.549999  17.549999  17.549999  17.549999  17.549999       0\n",
       "4    1928-01-09  17.500000  17.500000  17.500000  17.500000  17.500000       0\n",
       "...         ...        ...        ...        ...        ...        ...     ...\n",
       "1649 1948-09-23  15.560000  15.560000  15.560000  15.560000  15.560000       0\n",
       "1650 1948-10-20  16.340000  16.340000  16.340000  16.340000  16.340000       0\n",
       "1651 1948-10-21  16.360001  16.360001  16.360001  16.360001  16.360001       0\n",
       "1652 1948-10-27  16.570000  16.570000  16.570000  16.570000  16.570000       0\n",
       "1653 1949-12-13  16.639999  16.639999  16.639999  16.639999  16.639999       0\n",
       "\n",
       "[1654 rows x 7 columns]"
      ]
     },
     "execution_count": 14,
     "metadata": {},
     "output_type": "execute_result"
    }
   ],
   "source": [
    "gspc_historical_df[gspc_historical_df[\"Volume\"]==0]"
   ]
  },
  {
   "cell_type": "markdown",
   "id": "4593891b",
   "metadata": {},
   "source": [
    "1654 rows (index 0 to 1653). \n",
    "#### This means that volume figures are not available until 1949-12-13."
   ]
  },
  {
   "cell_type": "markdown",
   "id": "078517b7",
   "metadata": {},
   "source": [
    "## Examining Missing Dates\n",
    "- Observed that nearer to 1927, many dates are missing.\n",
    "\n",
    "#### To consider:\n",
    "- Average trading days per year is around 252 (https://www.macroption.com/trading-days-per-year/).\n",
    "- We should expect to see around 247-254 trading days a year.\n",
    "\n",
    "It is difficult to account for all trading days as there may be special market closures (e.g 2001 having 4 extra closed days due to 9/11)."
   ]
  },
  {
   "cell_type": "code",
   "execution_count": 23,
   "id": "66af2b38",
   "metadata": {},
   "outputs": [],
   "source": [
    "dates = pd.DataFrame(gspc_historical_df[\"Date\"])\n",
    "dates['Year'] = gspc_historical_df[\"Date\"].map(lambda x: x.year)\n",
    "dates['Month'] = gspc_historical_df[\"Date\"].map(lambda x: x.month)\n",
    "dates['Day'] = gspc_historical_df[\"Date\"].map(lambda x: x.day)"
   ]
  },
  {
   "cell_type": "code",
   "execution_count": 32,
   "id": "9d661e9c",
   "metadata": {},
   "outputs": [],
   "source": [
    "year_count = dates['Year'].value_counts(ascending=True)"
   ]
  },
  {
   "cell_type": "code",
   "execution_count": 38,
   "id": "2645d585",
   "metadata": {},
   "outputs": [
    {
     "data": {
      "text/plain": [
       "1949      1\n",
       "1927      1\n",
       "1944      6\n",
       "1941      6\n",
       "1943      7\n",
       "1940      8\n",
       "1942     16\n",
       "1948     16\n",
       "1947     18\n",
       "1939     27\n",
       "1945     42\n",
       "1946     48\n",
       "1938     57\n",
       "1937     83\n",
       "1935     83\n",
       "1934     91\n",
       "1936    107\n",
       "1933    136\n",
       "1930    155\n",
       "1932    169\n",
       "2021    179\n",
       "1931    183\n",
       "1928    195\n",
       "1929    199\n",
       "1968    226\n",
       "Name: Year, dtype: int64"
      ]
     },
     "execution_count": 38,
     "metadata": {},
     "output_type": "execute_result"
    }
   ],
   "source": [
    "year_count[year_count<247]"
   ]
  },
  {
   "cell_type": "markdown",
   "id": "a90a5082",
   "metadata": {},
   "source": [
    "## Adding Calculated Columns\n",
    "In particular:\n",
    "- % Change in Stock Closing: Gain/ Loss (As opening price information is not accurate for all dates)\n",
    "- % Daily Price variation"
   ]
  },
  {
   "cell_type": "code",
   "execution_count": null,
   "id": "30e4d3de",
   "metadata": {},
   "outputs": [],
   "source": [
    "change_closing_arr = np.array([0]) #For 1927-12-30\n",
    "change_closing_arr = np.append(change_closing_arr,\n",
    "                    [gspc_historical_df.iloc[i]['Close']-gspc_historical_df.iloc[i-1]['Close'] \\\n",
    "                    for i in range(1,len(gspc_historical_df))])"
   ]
  },
  {
   "cell_type": "code",
   "execution_count": null,
   "id": "14baae53",
   "metadata": {},
   "outputs": [],
   "source": [
    "change_closing_arr"
   ]
  },
  {
   "cell_type": "code",
   "execution_count": null,
   "id": "38e87951",
   "metadata": {},
   "outputs": [],
   "source": [
    "change_closing_percent = change_closing_arr*100 / gspc_historical_df['Close']"
   ]
  },
  {
   "cell_type": "code",
   "execution_count": null,
   "id": "d5552879",
   "metadata": {},
   "outputs": [],
   "source": [
    "gspc_historical_df[\"% Gain/Loss (Close)\"] = change_closing_percent"
   ]
  },
  {
   "cell_type": "code",
   "execution_count": null,
   "id": "f792f8cd",
   "metadata": {},
   "outputs": [],
   "source": [
    "gspc_historical_df[\"% Price Variation\"] = (gspc_historical_df['High']-gspc_historical_df['Low'])/gspc_historical_df['Close']"
   ]
  },
  {
   "cell_type": "code",
   "execution_count": null,
   "id": "afa34ff8",
   "metadata": {},
   "outputs": [],
   "source": [
    "gspc_historical_df.set_index(\"Date\", inplace = True)\n",
    "#Put back date as index\n",
    "decimals = pd.Series([2,2,2,2,2,0,4,3],index = gspc_historical_df.columns)\n",
    "#Round to these decimals"
   ]
  },
  {
   "cell_type": "code",
   "execution_count": null,
   "id": "0e6541f3",
   "metadata": {},
   "outputs": [],
   "source": [
    "gspc_historical_df = gspc_historical_df.round(decimals)"
   ]
  },
  {
   "cell_type": "markdown",
   "id": "aa97c1c1",
   "metadata": {},
   "source": [
    "#### Exporting to CSV"
   ]
  },
  {
   "cell_type": "code",
   "execution_count": null,
   "id": "65b52125",
   "metadata": {},
   "outputs": [],
   "source": [
    "file_name = \"SPX_500_Data.csv\"\n",
    "path = os.path.join(os.getcwd(),file_name)\n",
    "gspc_historical_df.to_csv(path)"
   ]
  }
 ],
 "metadata": {
  "kernelspec": {
   "display_name": "Python 3 (ipykernel)",
   "language": "python",
   "name": "python3"
  },
  "language_info": {
   "codemirror_mode": {
    "name": "ipython",
    "version": 3
   },
   "file_extension": ".py",
   "mimetype": "text/x-python",
   "name": "python",
   "nbconvert_exporter": "python",
   "pygments_lexer": "ipython3",
   "version": "3.9.7"
  }
 },
 "nbformat": 4,
 "nbformat_minor": 5
}
